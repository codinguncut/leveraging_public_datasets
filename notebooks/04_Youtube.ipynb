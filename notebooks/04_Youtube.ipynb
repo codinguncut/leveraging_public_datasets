{
 "cells": [
  {
   "attachments": {
    "2000px-YouTube_Logo_2017.svg.png": {
     "image/png": "[encoded data removed]"
    }
   },
   "cell_type": "markdown",
   "metadata": {},
   "source": [
    "## Youtube\n",
    "\n",
    "![2000px-YouTube_Logo_2017.svg.png](attachment:2000px-YouTube_Logo_2017.svg.png)\n",
    "\n",
    "### Getting Developer Key\n",
    "\n",
    "* follow this [video tutorial](https://www.youtube.com/watch?v=pP4zvduVAqo)\n",
    "* or text instructions at https://developers.google.com/youtube/v3/getting-started\n",
    "\n",
    "### Getting Started\n",
    "\n",
    "* Youtube provides 1 million credits free per day\n",
    "* Usual operations cost between 1 and 10 credits, leading to ca. 100k api calls per day\n",
    "* [API Documentation](https://developers.google.com/youtube/v3/docs/videos/list)"
   ]
  },
  {
   "cell_type": "code",
   "execution_count": 1,
   "metadata": {},
   "outputs": [],
   "source": [
    "import os\n",
    "\n",
    "from dotenv import load_dotenv\n",
    "load_dotenv()\n",
    "\n",
    "DEVELOPER_KEY = os.environ['YOUTUBE_KEY']"
   ]
  },
  {
   "cell_type": "markdown",
   "metadata": {},
   "source": [
    "### Utility Functions\n",
    "\n",
    "We need some utility functions to wrap the Youtube API.\n",
    "The API has lots of error cases, timeouts, recoverable errors, etc. that we need to take care of."
   ]
  },
  {
   "cell_type": "code",
   "execution_count": 2,
   "metadata": {},
   "outputs": [],
   "source": [
    "import logging\n",
    "from apiclient.discovery import build\n",
    "from googleapiclient.errors import HttpError\n",
    "\n",
    "logging.getLogger('googleapicliet.discovery_cache').setLevel(logging.ERROR)\n",
    "\n",
    "YOUTUBE_API_SERVICE_NAME = 'youtube'\n",
    "YOUTUBE_API_VERSION = 'v3'\n",
    "\n",
    "youtube = build(YOUTUBE_API_SERVICE_NAME,\n",
    "                YOUTUBE_API_VERSION,\n",
    "                developerKey=DEVELOPER_KEY,\n",
    "                cache_discovery=False)\n",
    "\n",
    "def runner(func, max_results=50, perPage=50, iterate=True, **kwargs):\n",
    "    \"\"\" utility function for pagination, etc. \"\"\"\n",
    "    results_rem = max_results\n",
    "\n",
    "    nexttok = None\n",
    "    while results_rem > 0:\n",
    "        kwargs = dict(kwargs,\n",
    "                      pageToken=nexttok,\n",
    "                      maxResults=perPage)\n",
    "\n",
    "        try:\n",
    "            search_response = func(**kwargs).execute()\n",
    "        except HttpError as e:\n",
    "            logging.warning('content: %r', e.content)\n",
    "            break\n",
    "\n",
    "        for search_result in search_response.get('items', []):\n",
    "            yield search_result\n",
    "\n",
    "        nexttok = search_response.get('nextPageToken')\n",
    "        if nexttok is None or not iterate:\n",
    "            break\n",
    "        results_rem -= perPage\n",
    "\n",
    "\n",
    "def search_videos(q, max_results=200, order='relevance'):\n",
    "    \"\"\"\n",
    "    search youtube videos\n",
    "    order: date, rating, relevance, title, videoCount, viewCount\n",
    "    \"\"\"\n",
    "    return runner(\n",
    "        youtube.search().list,\n",
    "        max_results=max_results,\n",
    "        q=q,\n",
    "        type='video',\n",
    "        order=order,\n",
    "        part='id,snippet',\n",
    "    )\n",
    "\n",
    "def get_videos(video_ids):\n",
    "    \"\"\" get details for comma-separated video_ids \"\"\"\n",
    "    return runner(\n",
    "        youtube.videos().list,\n",
    "        part='id,snippet,topicDetails',\n",
    "        id=video_ids)"
   ]
  },
  {
   "cell_type": "markdown",
   "metadata": {},
   "source": [
    "### 200 Machine Learning videos\n",
    "\n",
    "Let's find the 200 most recent videos about \"machine learning\"."
   ]
  },
  {
   "cell_type": "code",
   "execution_count": 3,
   "metadata": {},
   "outputs": [
    {
     "name": "stdout",
     "output_type": "stream",
     "text": [
      "[\n",
      "    {\n",
      "        \"kind\": \"youtube#video\",\n",
      "        \"etag\": \"\\\"p4VTdlkQv3HQeTEaXgvLePAydmU/dezr71md6n_ajuFyFT7bxgzDmLY\\\"\",\n",
      "        \"id\": \"JdFw-kKfBzw\",\n",
      "        \"snippet\": {\n",
      "            \"publishedAt\": \"2018-12-11T13:59:51.000Z\",\n",
      "            \"channelId\": \"UCgdHSFcXvkN6O3NXvif0-pA\",\n",
      "            \"title\": \"Unsupervised Machine Learning | Introduction to Machine Learning, Part 2\",\n",
      "            \"description\": \"Try machine learning now:\\n- Train a machine learning model right in your browser: http://bit.ly/2QCnU6X\\n- Get a free machine learning trial: http://bit.ly/2QKxhBX\\n\\nGet an overview of unsupervised machine learning. Unsupervised Machine Learning looks for patterns in datasets that don\\u2019t have labeled responses. \\n\\n- MATLAB for Machine Learning: http://bit.ly/2QIDlum\\n- Machine Learning with MATLAB eBook: http://bit.ly/2QBFiZO\\n\\nYou\\u2019d use this technique when you want to explore your data but don\\u2019t yet have a specific goal, or you\\u2019re not sure what information the data contains. It\\u2019s also a good way to reduce the dimensionality of your data. \\n\\nMost unsupervised learning techniques are a form of cluster analysis. Clustering algorithms fall into two broad groups: \\nHard clustering, where each data point belongs to only one cluster \\nSoft clustering, where each data point can belong to more than one cluster.\\n\\nThis video uses examples to illustrate hard and soft clustering algorithms, and it shows why you\\u2019d want to use unsupervised machine learning to reduce the number of features in your dataset.\\n\\nGet a free product Trial: https://goo.gl/ZHFb5u\\nLearn more about MATLAB: https://goo.gl/8QV7ZZ\\nLearn more about Simulink: https://goo.gl/nqnbLe\\nSee What's new in MATLAB and Simulink: https://goo.gl/pgGtod\\n\\n\\u00a9 2018 The MathWorks, Inc. MATLAB and Simulink are registered\\ntrademarks of The MathWorks, Inc. \\nSee www.mathworks.com/trademarks for a list of additional trademarks. Other product or brand names maybe trademarks or registered trademarks of their respective holders.\",\n",
      "            \"thumbnails\": {\n",
      "                \"default\": {\n",
      "                    \"url\": \"https://i.ytimg.com/vi/JdFw-kKfBzw/default.jpg\",\n",
      "                    \"width\": 120,\n",
      "                    \"height\": 90\n",
      "                },\n",
      "                \"medium\": {\n",
      "                    \"url\": \"https://i.ytimg.com/vi/JdFw-kKfBzw/mqdefault.jpg\",\n",
      "                    \"width\": 320,\n",
      "                    \"height\": 180\n",
      "                },\n",
      "                \"high\": {\n",
      "                    \"url\": \"https://i.ytimg.com/vi/JdFw-kKfBzw/hqdefault.jpg\",\n",
      "                    \"width\": 480,\n",
      "                    \"height\": 360\n",
      "                },\n",
      "                \"standard\": {\n",
      "                    \"url\": \"https://i.ytimg.com/vi/JdFw-kKfBzw/sddefault.jpg\",\n",
      "                    \"width\": 640,\n",
      "                    \"height\": 480\n",
      "                }\n",
      "            },\n",
      "            \"channelTitle\": \"MATLAB\",\n",
      "            \"tags\": [\n",
      "                \"MATLAB\",\n",
      "                \"Simulink\",\n",
      "                \"MathWorks\",\n",
      "                \"machine learning\",\n",
      "                \"unsupervised learning\",\n",
      "                \"machine learning tutorial\",\n",
      "                \"supervised learning\",\n",
      "                \"machine learning basics\",\n",
      "                \"machine learning algorithms\",\n",
      "                \"machine learning tutorial for beginners\",\n",
      "                \"what is machine learning\",\n",
      "                \"introduction to machine learning\"\n",
      "            ],\n",
      "            \"categoryId\": \"28\",\n",
      "            \"liveBroadcastContent\": \"none\",\n",
      "            \"defaultLanguage\": \"en\",\n",
      "            \"localized\": {\n",
      "                \"title\": \"Unsupervised Machine Learning | Introduction to Machine Learning, Part 2\",\n",
      "                \"description\": \"Try machine learning now:\\n- Train a machine learning model right in your browser: http://bit.ly/2QCnU6X\\n- Get a free machine learning trial: http://bit.ly/2QKxhBX\\n\\nGet an overview of unsupervised machine learning. Unsupervised Machine Learning looks for patterns in datasets that don\\u2019t have labeled responses. \\n\\n- MATLAB for Machine Learning: http://bit.ly/2QIDlum\\n- Machine Learning with MATLAB eBook: http://bit.ly/2QBFiZO\\n\\nYou\\u2019d use this technique when you want to explore your data but don\\u2019t yet have a specific goal, or you\\u2019re not sure what information the data contains. It\\u2019s also a good way to reduce the dimensionality of your data. \\n\\nMost unsupervised learning techniques are a form of cluster analysis. Clustering algorithms fall into two broad groups: \\nHard clustering, where each data point belongs to only one cluster \\nSoft clustering, where each data point can belong to more than one cluster.\\n\\nThis video uses examples to illustrate hard and soft clustering algorithms, and it shows why you\\u2019d want to use unsupervised machine learning to reduce the number of features in your dataset.\\n\\nGet a free product Trial: https://goo.gl/ZHFb5u\\nLearn more about MATLAB: https://goo.gl/8QV7ZZ\\nLearn more about Simulink: https://goo.gl/nqnbLe\\nSee What's new in MATLAB and Simulink: https://goo.gl/pgGtod\\n\\n\\u00a9 2018 The MathWorks, Inc. MATLAB and Simulink are registered\\ntrademarks of The MathWorks, Inc. \\nSee www.mathworks.com/trademarks for a list of additional trademarks. Other product or brand names maybe trademarks or registered trademarks of their respective holders.\"\n",
      "            },\n",
      "            \"defaultAudioLanguage\": \"en\"\n",
      "        },\n",
      "        \"topicDetails\": {\n",
      "            \"topicIds\": [\n",
      "                \"/m/019_rr\",\n",
      "                \"/m/07c1v\"\n",
      "            ],\n",
      "            \"relevantTopicIds\": [\n",
      "                \"/m/019_rr\",\n",
      "                \"/m/07c1v\"\n",
      "            ],\n",
      "            \"topicCategories\": [\n",
      "                \"https://en.wikipedia.org/wiki/Technology\",\n",
      "                \"https://en.wikipedia.org/wiki/Lifestyle_(sociology)\"\n",
      "            ]\n",
      "        }\n",
      "    }\n",
      "]\n"
     ]
    }
   ],
   "source": [
    "import json\n",
    "\n",
    "res = list(search_videos('machine learning', max_results=200, order='date'))\n",
    "\n",
    "video_id = res[198]['id']['videoId']\n",
    "detailed = list(get_videos(video_id))\n",
    "print(json.dumps(detailed, indent=4))"
   ]
  },
  {
   "cell_type": "markdown",
   "metadata": {},
   "source": [
    "### Video Comments\n",
    "\n",
    "Let's fetch comments for the above video, even though it is a very recent upload."
   ]
  },
  {
   "cell_type": "code",
   "execution_count": 4,
   "metadata": {},
   "outputs": [
    {
     "name": "stdout",
     "output_type": "stream",
     "text": [
      "[\n",
      "    {\n",
      "        \"kind\": \"youtube#commentThread\",\n",
      "        \"etag\": \"\\\"p4VTdlkQv3HQeTEaXgvLePAydmU/JnN3DWtqPe78nkPNJYo41oL51rk\\\"\",\n",
      "        \"id\": \"UgxDmWGY2O_g81D2Lwp4AaABAg\",\n",
      "        \"snippet\": {\n",
      "            \"videoId\": \"JdFw-kKfBzw\",\n",
      "            \"topLevelComment\": {\n",
      "                \"kind\": \"youtube#comment\",\n",
      "                \"etag\": \"\\\"p4VTdlkQv3HQeTEaXgvLePAydmU/yimQqgeEUxR9hX3947Pl_3ZwGFE\\\"\",\n",
      "                \"id\": \"UgxDmWGY2O_g81D2Lwp4AaABAg\",\n",
      "                \"snippet\": {\n",
      "                    \"authorDisplayName\": \"Lion\",\n",
      "                    \"authorProfileImageUrl\": \"https://yt3.ggpht.com/a/AGF-l7_PSnBJXOWQxwv-6FUucNftTS-6KMvQt_ebiw=s48-c-k-c0xffffffff-no-rj-mo\",\n",
      "                    \"authorChannelUrl\": \"http://www.youtube.com/channel/UCzDVttyWyaGmeRwB8clp8tQ\",\n",
      "                    \"authorChannelId\": {\n",
      "                        \"value\": \"UCzDVttyWyaGmeRwB8clp8tQ\"\n",
      "                    },\n",
      "                    \"videoId\": \"JdFw-kKfBzw\",\n",
      "                    \"textDisplay\": \"Awesome\",\n",
      "                    \"textOriginal\": \"Awesome\",\n",
      "                    \"canRate\": true,\n",
      "                    \"viewerRating\": \"none\",\n",
      "                    \"likeCount\": 0,\n",
      "                    \"publishedAt\": \"2019-07-30T15:24:03.000Z\",\n",
      "                    \"updatedAt\": \"2019-07-30T15:24:03.000Z\"\n",
      "                }\n",
      "            },\n",
      "            \"canReply\": true,\n",
      "            \"totalReplyCount\": 0,\n",
      "            \"isPublic\": true\n",
      "        }\n",
      "    }\n",
      "]\n"
     ]
    }
   ],
   "source": [
    "def video_comments(videoId, q=None, max_results=50):\n",
    "    \"\"\" fetch comments for video `videoId` \"\"\"\n",
    "    return runner(\n",
    "        youtube.commentThreads().list,\n",
    "        max_results=max_results,\n",
    "        part='id,replies,snippet',\n",
    "        order='relevance',\n",
    "        videoId=videoId,\n",
    "        searchTerms=q,\n",
    "        textFormat='plainText'\n",
    "    )\n",
    "\n",
    "comments = list(video_comments(video_id))\n",
    "print(json.dumps(comments, indent=4))"
   ]
  },
  {
   "cell_type": "markdown",
   "metadata": {},
   "source": [
    "## Other Capabilities\n",
    "\n",
    "* find related videos\n",
    "* fetch channel information and videos\n",
    "* fetch closed captions\n",
    "* given oauth permissions also possible to fetch user history, likes, subscriptions, etc."
   ]
  },
  {
   "cell_type": "code",
   "execution_count": null,
   "metadata": {},
   "outputs": [],
   "source": []
  }
 ],
 "metadata": {
  "kernelspec": {
   "display_name": "Python 3",
   "language": "python",
   "name": "python3"
  },
  "language_info": {
   "codemirror_mode": {
    "name": "ipython",
    "version": 3
   },
   "file_extension": ".py",
   "mimetype": "text/x-python",
   "name": "python",
   "nbconvert_exporter": "python",
   "pygments_lexer": "ipython3",
   "version": "3.6.5"
  }
 },
 "nbformat": 4,
 "nbformat_minor": 2
}
