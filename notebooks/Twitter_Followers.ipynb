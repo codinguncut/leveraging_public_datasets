{
 "cells": [
  {
   "cell_type": "markdown",
   "metadata": {},
   "source": [
    "## Twitter Followers"
   ]
  },
  {
   "cell_type": "code",
   "execution_count": 49,
   "metadata": {},
   "outputs": [],
   "source": [
    "import os\n",
    "import pickle\n",
    "\n",
    "from dotenv import load_dotenv\n",
    "load_dotenv()\n",
    "\n",
    "CONSUMER_KEY = os.environ['CONSUMER_KEY']\n",
    "CONSUMER_SECRET = os.environ['CONSUMER_SECRET']\n",
    "TWITTER_TOKEN = os.environ['TWITTER_TOKEN']\n",
    "TWITTER_SECRET = os.environ['TWITTER_SECRET']\n",
    "\n",
    "import twitter\n",
    "%matplotlib inline"
   ]
  },
  {
   "cell_type": "code",
   "execution_count": 2,
   "metadata": {},
   "outputs": [],
   "source": [
    "# FIXME: caching, memoization\n",
    "\n",
    "t = twitter.Twitter(\n",
    "    auth=twitter.OAuth(TWITTER_TOKEN,\n",
    "                       TWITTER_SECRET,\n",
    "                       CONSUMER_KEY,\n",
    "                       CONSUMER_SECRET))\n",
    "\n",
    "# t.application.rate_limit_status()"
   ]
  },
  {
   "cell_type": "markdown",
   "metadata": {},
   "source": [
    "```\n",
    "res = t.friends.list(count=200)\n",
    "followers = res['users']\n",
    "while res['next_cursor']:\n",
    "    res = t.friends.list(count=200, cursor=res['next_cursor'])\n",
    "    followers += res['users']\n",
    "```"
   ]
  },
  {
   "cell_type": "code",
   "execution_count": 10,
   "metadata": {},
   "outputs": [],
   "source": [
    "with open('user_details.pkl', 'rb') as fhandle:\n",
    "    user_details = pickle.load(fhandle)\n",
    "    \n",
    "with open('ffriends.pkl', 'rb') as fhandle:\n",
    "    ffriends = pickle.load(fhandle)\n",
    "    \n",
    "with open('friend_tweets.pkl', 'rb') as fhandle:\n",
    "    friend_tweets = pickle.load(fhandle)"
   ]
  },
  {
   "cell_type": "code",
   "execution_count": 4,
   "metadata": {},
   "outputs": [],
   "source": [
    "from ratelimiter import RateLimiter\n",
    "from tqdm import tqdm_notebook\n",
    "import functools as ft\n",
    "\n",
    "WINDOW_SECONDS = 15*60  # 15 minutes\n",
    "# FIXME: get this information from quota endpoint\n",
    "RATE_LIMITS = {\n",
    "    'friends/ids': 15,\n",
    "    'search/tweets': 450,\n",
    "    'statuses/lookup': 300,\n",
    "    'statuses/user_timeline': 1500,\n",
    "    'users/lookup': 300,  # *200\n",
    "    'users/show': 900\n",
    "}\n",
    "\n",
    "@ft.lru_cache(maxsize=128)\n",
    "def rate_limiter(endpoint):\n",
    "    \"\"\" get a cached rate limiter per endpoint \"\"\"\n",
    "    limit = RATE_LIMITS[endpoint]\n",
    "    return RateLimiter(max_calls=limit, period=WINDOW_SECONDS)\n",
    "\n",
    "        \n",
    "def chunks(l, n):\n",
    "    \"\"\"Yield successive n-sized chunks from l.\"\"\"\n",
    "    for i in range(0, len(l), n):\n",
    "        yield l[i:i + n]"
   ]
  },
  {
   "cell_type": "code",
   "execution_count": 8,
   "metadata": {},
   "outputs": [],
   "source": [
    "with rate_limiter('friends/ids'):\n",
    "    my_friends = t.friends.ids()['ids']\n"
   ]
  },
  {
   "cell_type": "code",
   "execution_count": null,
   "metadata": {},
   "outputs": [],
   "source": [
    "\n",
    "# this has very low quota of 1 / minute / account (1,440/ day)\n",
    "# likes, replies, retweets have higher quotas and probably imply \"following\"\n",
    "#\n",
    "# https://github.com/twintproject/twint but issue re: twitter terms of service\n",
    "for friend_id in tqdm_notebook(my_friends):\n",
    "    if friend_id in ffriends:\n",
    "        continue\n",
    "    with rate_limiter('friends/ids'):\n",
    "        ffriends[friend_id] = t.friends.ids(user_id=friend_id)['ids']"
   ]
  },
  {
   "cell_type": "code",
   "execution_count": 5,
   "metadata": {},
   "outputs": [],
   "source": [
    "def user_subset(user):\n",
    "    fields = ['id', 'name', 'screen_name', 'location', 'description', 'protected',\n",
    "              'followers_count', 'friends_count', 'favourites_count', 'created_at', \n",
    "              'statuses_count', 'lang']\n",
    "    return {k: v for k,v in user.items() if k in fields}\n",
    "\n",
    "def tweet_subset(tweet):\n",
    "    return tweet"
   ]
  },
  {
   "cell_type": "code",
   "execution_count": 6,
   "metadata": {},
   "outputs": [
    {
     "data": {
      "application/vnd.jupyter.widget-view+json": {
       "model_id": "db349436433d41da876b5cafeeeac53c",
       "version_major": 2,
       "version_minor": 0
      },
      "text/plain": [
       "HBox(children=(IntProgress(value=1, bar_style='info', max=1), HTML(value='')))"
      ]
     },
     "metadata": {},
     "output_type": "display_data"
    },
    {
     "name": "stdout",
     "output_type": "stream",
     "text": [
      "\n"
     ]
    }
   ],
   "source": [
    "import logging\n",
    "\n",
    "# looks like users.show is mostly identical to lookup\n",
    "# t.users.lookup(screen_name='johannes_cork')\n",
    "targets = list(set(sum(ffriends.values(), [])) - set(user_details.keys()))\n",
    "\n",
    "for chunk in tqdm_notebook(chunks(targets, n=100)):\n",
    "    with rate_limiter('users/lookup'):\n",
    "        user_ids = ','.join(str(c) for c in chunk)\n",
    "        try:\n",
    "            res = t.users.lookup(user_id=user_ids)\n",
    "            for r in res:\n",
    "                user_details[r['id']] = user_subset(r)\n",
    "        # FIXME: find a better way to catch this\n",
    "        except twitter.TwitterHTTPError as e:\n",
    "            if 'No user matches for specified terms.' in str(e):\n",
    "                # all of the users are invalid\n",
    "                logging.warning('users/lookup - all user ids were invalid')\n",
    "                continue\n",
    "            else:\n",
    "                raise e"
   ]
  },
  {
   "cell_type": "code",
   "execution_count": null,
   "metadata": {},
   "outputs": [],
   "source": [
    "targets = list(set(sum(ffriends.values(), [])) - set(friend_tweets.keys()))\n",
    "# friend_tweets = {}\n",
    "\n",
    "# 100 per second, 200 tweets per response\n",
    "# we can get user mentions from this, much faster than friends/ids\n",
    "for friend_id in tqdm_notebook(my_friends):\n",
    "    if friend_id in friend_tweets:\n",
    "        continue\n",
    "\n",
    "    max_id = None\n",
    "    res = []\n",
    "    for _ in range(2):\n",
    "        with rate_limiter('statuses/user_timeline'):\n",
    "            opts = dict(\n",
    "                user_id=friend_id,\n",
    "                count=200,\n",
    "                trim_user=True,\n",
    "                exclude_replies=False,\n",
    "                include_rts=True,\n",
    "                tweet_mode=\"extended\"\n",
    "            )\n",
    "            if max_id:\n",
    "                opts['max_id'] = max_id\n",
    "\n",
    "            tl = t.statuses.user_timeline(**opts)\n",
    "            if not tl:\n",
    "                break\n",
    "            res += tl\n",
    "            max_id = min(r['id'] for r in res)\n",
    "    friend_tweets[friend_id] = res"
   ]
  },
  {
   "cell_type": "code",
   "execution_count": 11,
   "metadata": {},
   "outputs": [],
   "source": [
    "user_details = {k: user_subset(v) for k, v in user_details.items()}"
   ]
  },
  {
   "cell_type": "code",
   "execution_count": 12,
   "metadata": {},
   "outputs": [
    {
     "name": "stdout",
     "output_type": "stream",
     "text": [
      "my_friends 777\n",
      "ffriends 516831\n",
      "user_details 516803\n",
      "friend_tweets 94057\n"
     ]
    }
   ],
   "source": [
    "print('my_friends', len(my_friends))\n",
    "print('ffriends', len(set(sum([v for v in ffriends.values()], []))))\n",
    "print('user_details', len(user_details))\n",
    "print('friend_tweets', len(sum(friend_tweets.values(), [])))"
   ]
  },
  {
   "cell_type": "code",
   "execution_count": 15,
   "metadata": {},
   "outputs": [
    {
     "name": "stdout",
     "output_type": "stream",
     "text": [
      "{'id': 711729626482081792, 'name': 'Peggy Rayzis 👩🏼\\u200d💻', 'screen_name': 'peggyrayzis', 'location': 'New York, NY', 'description': 'Exploring the world through code, travel, and music ✨ Developer Experience @apollographql 🚀 she/her', 'protected': False, 'followers_count': 18891, 'friends_count': 443, 'created_at': 'Mon Mar 21 01:42:21 +0000 2016', 'favourites_count': 7027, 'statuses_count': 3778, 'lang': None}\n",
      "23 apollographql\n",
      "23 graphqlsummit\n",
      "13 peggyrayzis\n",
      "12 seldo\n",
      "10 MoonTahoe\n",
      "8 jevakallio\n",
      "7 mjackson\n",
      "6 eveporcello\n",
      "5 dan_abramov\n",
      "5 hughwillson\n",
      "4 stemmlerjs\n",
      "4 gatsbyjs\n",
      "4 pkellner\n",
      "4 trevorblades\n",
      "4 jbaxleyiii\n",
      "4 rakshesha\n",
      "4 NikkitaFTW\n",
      "4 None\n",
      "4 kentcdodds\n",
      "4 None\n"
     ]
    }
   ],
   "source": [
    "from collections import Counter\n",
    "\n",
    "def get_relations(tweets):\n",
    "    for t in tweets:\n",
    "        entities = t['entities']\n",
    "        mentions = [m['id'] for m in entities['user_mentions']]\n",
    "        hashtags = [h['text'] for h in entities['hashtags']]\n",
    "        reply_to = t['in_reply_to_user_id']\n",
    "        for m in mentions:\n",
    "            yield m\n",
    "        if reply_to:\n",
    "            yield reply_to\n",
    "        \n",
    "a_friend = list(friend_tweets.keys())[1]\n",
    "print(user_details[a_friend]) # ['screen_name'])\n",
    "# friend_tweets[a_friend]\n",
    "for a, b in Counter(get_relations(friend_tweets[a_friend])).most_common(20):\n",
    "    print(b, user_details.get(a, {}).get('screen_name'))"
   ]
  },
  {
   "cell_type": "code",
   "execution_count": 55,
   "metadata": {},
   "outputs": [
    {
     "data": {
      "text/html": [
       "\n",
       "        <iframe\n",
       "            width=\"500px\"\n",
       "            height=\"500px\"\n",
       "            src=\"example.html\"\n",
       "            frameborder=\"0\"\n",
       "            allowfullscreen\n",
       "        ></iframe>\n",
       "        "
      ],
      "text/plain": [
       "<IPython.lib.display.IFrame at 0x7f965468ca20>"
      ]
     },
     "execution_count": 55,
     "metadata": {},
     "output_type": "execute_result"
    }
   ],
   "source": [
    "keys = set(list(friend_tweets.keys())[:300])\n",
    "friends = {user_details.get(k, {}).get('screen_name'): get_relations(friend_tweets[k])\n",
    "           for k in keys\n",
    "           if k in user_details}\n",
    "\n",
    "from pyvis import network as net\n",
    "import networkx as nx\n",
    "g = net.Network(notebook=True)\n",
    "nxg = nx.Graph()\n",
    "nxg.add_nodes_from(a for a, b in friends.items())\n",
    "for screen_name, rels in friends.items():\n",
    "    rs = [(screen_name, user_details.get(rel, {}).get('screen_name')) for rel in rels if rel in keys]\n",
    "    rs = [(a, b) for (a, b) in rs if a != b]\n",
    "    nxg.add_edges_from(rs)\n",
    "# nxg.add_edges_from([(1,2), (1,3)])\n",
    "\n",
    "g.from_nx(nxg)\n",
    "g.show(\"example.html\")"
   ]
  },
  {
   "cell_type": "code",
   "execution_count": 214,
   "metadata": {},
   "outputs": [],
   "source": [
    "import pickle\n",
    "\n",
    "if False:\n",
    "    with open('user_details.pkl', 'wb') as fhandle:\n",
    "        pickle.dump(user_details, fhandle)\n",
    "\n",
    "    with open('ffriends.pkl', 'wb') as fhandle:\n",
    "        pickle.dump(ffriends, fhandle)\n",
    "\n",
    "    with open('friend_tweets.pkl', 'wb') as fhandle:\n",
    "        pickle.dump(friend_tweets, fhandle)"
   ]
  },
  {
   "cell_type": "markdown",
   "metadata": {},
   "source": [
    "## Ideas\n",
    "- push everything into neo4j or similar\n",
    "- get recommendations for hashtags, twitter accounts, etc."
   ]
  },
  {
   "cell_type": "code",
   "execution_count": null,
   "metadata": {},
   "outputs": [],
   "source": []
  }
 ],
 "metadata": {
  "kernelspec": {
   "display_name": "Python 3",
   "language": "python",
   "name": "python3"
  },
  "language_info": {
   "codemirror_mode": {
    "name": "ipython",
    "version": 3
   },
   "file_extension": ".py",
   "mimetype": "text/x-python",
   "name": "python",
   "nbconvert_exporter": "python",
   "pygments_lexer": "ipython3",
   "version": "3.6.5"
  }
 },
 "nbformat": 4,
 "nbformat_minor": 4
}
